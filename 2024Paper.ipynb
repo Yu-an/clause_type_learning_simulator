{
 "cells": [
  {
   "cell_type": "code",
   "execution_count": 1,
   "id": "088f8d7e",
   "metadata": {},
   "outputs": [],
   "source": [
    "import numpy as np\n",
    "import pandas as pd\n",
    "import pickle\n",
    "import seaborn as sns\n",
    "import matplotlib.pyplot as plt\n",
    "import matplotlib.gridspec as gridspec\n",
    "from sklearn.metrics.cluster import rand_score\n",
    "import scipy.special as sc\n",
    "import os\n",
    "import visualization as an\n",
    "import statsmodels.api as sm\n",
    "from scipy import stats\n",
    "from sklearn.linear_model import LogisticRegression\n",
    "from sklearn.metrics import f1_score\n",
    "from scipy import stats\n",
    "from sklearn.model_selection import train_test_split\n",
    "from sklearn.metrics import precision_recall_fscore_support"
   ]
  },
  {
   "cell_type": "code",
   "execution_count": 32,
   "id": "c0ac7776",
   "metadata": {},
   "outputs": [],
   "source": [
    "blue =['#9addfb','#03a9f4'] \n",
    "yellow = [\"#F8D890\",'#E69F00']\n",
    "red = [\"#f1a495\",'#ab2b2a']\n",
    "colors = [blue,yellow,red]\n",
    "FEATURE = ['Subj', 'Verb', 'Aux', 'AuxInvert', \n",
    "     'InitFunction', 'PreVFunction', 'PostVFunction',\"VerbMorphology\",\"FinalRise\"]"
   ]
  },
  {
   "cell_type": "markdown",
   "id": "c06078a2",
   "metadata": {},
   "source": [
    "### Proposed analysis\n",
    "- add prosody in\n",
    "- add simulation for morpho-syntactic features"
   ]
  },
  {
   "cell_type": "code",
   "execution_count": 10,
   "id": "c9457ff4",
   "metadata": {},
   "outputs": [],
   "source": [
    "sim_dir = 'Simultations/outputs/noisyS_parallel_10above/sims/'\n",
    "noise_source = 'noisy_feature_0/'\n",
    "# noise_level = '10_percent_noise/'\n",
    "round_num = 'round_1/'"
   ]
  },
  {
   "cell_type": "code",
   "execution_count": 33,
   "id": "aa880500",
   "metadata": {
    "scrolled": true
   },
   "outputs": [],
   "source": [
    "base_noisy_models = {}\n",
    "target_noisy_models = {}\n",
    "model_type = 'baseline_rounds/'\n",
    "for feature_index in range(9):\n",
    "    feature = FEATURE[feature_index]\n",
    "    models = []\n",
    "    for level in range(10,90,10):\n",
    "        noise_source = f'noisy_feature_{str(feature_index)}/'        \n",
    "        noise_level = f'{str(level)}_percent_noise/'\n",
    "        model = an.results(\"eng\",sim_dir+model_type+noise_source+noise_level+round_num, \"iter_5000\")\n",
    "        models.append(model)\n",
    "        base_noisy_models[feature] = models"
   ]
  },
  {
   "cell_type": "code",
   "execution_count": 35,
   "id": "83b96fc9",
   "metadata": {},
   "outputs": [],
   "source": [
    "model_type = 'target_rounds/'\n",
    "for feature_index in range(9):\n",
    "    feature = FEATURE[feature_index]\n",
    "    models = []\n",
    "    for level in range(10,90,10):\n",
    "        noise_source = f'noisy_feature_{str(feature_index)}/'        \n",
    "        noise_level = f'{str(level)}_percent_noise/'\n",
    "        model = an.results(\"eng\",sim_dir+model_type+noise_source+noise_level+round_num, \"iter_5000\")\n",
    "        models.append(model)\n",
    "        base_noisy_models[feature] = models"
   ]
  },
  {
   "cell_type": "code",
   "execution_count": 37,
   "id": "faaf040b",
   "metadata": {},
   "outputs": [
    {
     "ename": "NameError",
     "evalue": "name 'num' is not defined",
     "output_type": "error",
     "traceback": [
      "\u001b[0;31m---------------------------------------------------------------------------\u001b[0m",
      "\u001b[0;31mNameError\u001b[0m                                 Traceback (most recent call last)",
      "\u001b[0;32m/var/folders/zj/3zkmnls94cgg6ky3wr09yl240000gr/T/ipykernel_34651/1260765795.py\u001b[0m in \u001b[0;36m<cell line: 2>\u001b[0;34m()\u001b[0m\n\u001b[1;32m      1\u001b[0m \u001b[0mfig\u001b[0m \u001b[0;34m=\u001b[0m \u001b[0mplt\u001b[0m\u001b[0;34m.\u001b[0m\u001b[0mfigure\u001b[0m\u001b[0;34m(\u001b[0m\u001b[0mfigsize\u001b[0m\u001b[0;34m=\u001b[0m\u001b[0;34m(\u001b[0m\u001b[0;36m15\u001b[0m\u001b[0;34m,\u001b[0m \u001b[0;36m8\u001b[0m\u001b[0;34m)\u001b[0m\u001b[0;34m)\u001b[0m\u001b[0;34m\u001b[0m\u001b[0;34m\u001b[0m\u001b[0m\n\u001b[0;32m----> 2\u001b[0;31m \u001b[0mouter\u001b[0m \u001b[0;34m=\u001b[0m \u001b[0mgridspec\u001b[0m\u001b[0;34m.\u001b[0m\u001b[0mGridSpec\u001b[0m\u001b[0;34m(\u001b[0m\u001b[0;36m1\u001b[0m\u001b[0;34m,\u001b[0m \u001b[0mnum\u001b[0m\u001b[0;34m,\u001b[0m \u001b[0mwspace\u001b[0m\u001b[0;34m=\u001b[0m\u001b[0;36m0.1\u001b[0m\u001b[0;34m)\u001b[0m\u001b[0;34m\u001b[0m\u001b[0;34m\u001b[0m\u001b[0m\n\u001b[0m\u001b[1;32m      3\u001b[0m \u001b[0max\u001b[0m \u001b[0;34m=\u001b[0m \u001b[0mplt\u001b[0m\u001b[0;34m.\u001b[0m\u001b[0mSubplot\u001b[0m\u001b[0;34m(\u001b[0m\u001b[0mfig\u001b[0m\u001b[0;34m,\u001b[0m \u001b[0minner\u001b[0m\u001b[0;34m[\u001b[0m\u001b[0mj\u001b[0m\u001b[0;34m]\u001b[0m\u001b[0;34m)\u001b[0m\u001b[0;34m\u001b[0m\u001b[0;34m\u001b[0m\u001b[0m\n\u001b[1;32m      4\u001b[0m \u001b[0mfig\u001b[0m\u001b[0;34m.\u001b[0m\u001b[0madd_subplot\u001b[0m\u001b[0;34m(\u001b[0m\u001b[0max\u001b[0m\u001b[0;34m)\u001b[0m\u001b[0;34m\u001b[0m\u001b[0;34m\u001b[0m\u001b[0m\n",
      "\u001b[0;31mNameError\u001b[0m: name 'num' is not defined"
     ]
    },
    {
     "data": {
      "text/plain": [
       "<Figure size 1080x576 with 0 Axes>"
      ]
     },
     "metadata": {},
     "output_type": "display_data"
    }
   ],
   "source": [
    "fig = plt.figure(figsize=(15, 8))\n",
    "outer = gridspec.GridSpec(1, num, wspace=0.1)\n",
    "ax = plt.Subplot(fig, inner[j])\n",
    "fig.add_subplot(ax)"
   ]
  },
  {
   "cell_type": "code",
   "execution_count": 36,
   "id": "fe1b57e9",
   "metadata": {},
   "outputs": [
    {
     "ename": "KeyError",
     "evalue": "0",
     "output_type": "error",
     "traceback": [
      "\u001b[0;31m---------------------------------------------------------------------------\u001b[0m",
      "\u001b[0;31mKeyError\u001b[0m                                  Traceback (most recent call last)",
      "\u001b[0;32m/var/folders/zj/3zkmnls94cgg6ky3wr09yl240000gr/T/ipykernel_34651/3872913951.py\u001b[0m in \u001b[0;36m<cell line: 1>\u001b[0;34m()\u001b[0m\n\u001b[0;32m----> 1\u001b[0;31m \u001b[0mbase_noisy_models\u001b[0m\u001b[0;34m[\u001b[0m\u001b[0;36m0\u001b[0m\u001b[0;34m]\u001b[0m\u001b[0;34m.\u001b[0m\u001b[0mheatmap\u001b[0m\u001b[0;34m(\u001b[0m\u001b[0;34m)\u001b[0m\u001b[0;34m\u001b[0m\u001b[0;34m\u001b[0m\u001b[0m\n\u001b[0m",
      "\u001b[0;31mKeyError\u001b[0m: 0"
     ]
    }
   ],
   "source": [
    "base_noisy_models[].heatmap()"
   ]
  },
  {
   "cell_type": "code",
   "execution_count": 38,
   "id": "77a3a953",
   "metadata": {},
   "outputs": [
    {
     "ename": "KeyError",
     "evalue": "0",
     "output_type": "error",
     "traceback": [
      "\u001b[0;31m---------------------------------------------------------------------------\u001b[0m",
      "\u001b[0;31mKeyError\u001b[0m                                  Traceback (most recent call last)",
      "\u001b[0;32m/var/folders/zj/3zkmnls94cgg6ky3wr09yl240000gr/T/ipykernel_34651/3872913951.py\u001b[0m in \u001b[0;36m<cell line: 1>\u001b[0;34m()\u001b[0m\n\u001b[0;32m----> 1\u001b[0;31m \u001b[0mbase_noisy_models\u001b[0m\u001b[0;34m[\u001b[0m\u001b[0;36m0\u001b[0m\u001b[0;34m]\u001b[0m\u001b[0;34m.\u001b[0m\u001b[0mheatmap\u001b[0m\u001b[0;34m(\u001b[0m\u001b[0;34m)\u001b[0m\u001b[0;34m\u001b[0m\u001b[0;34m\u001b[0m\u001b[0m\n\u001b[0m",
      "\u001b[0;31mKeyError\u001b[0m: 0"
     ]
    }
   ],
   "source": [
    "base_noisy_models[''].heatmap()"
   ]
  },
  {
   "cell_type": "code",
   "execution_count": 29,
   "id": "79ac297e",
   "metadata": {},
   "outputs": [
    {
     "data": {
      "image/png": "[encoded data removed]",
      "text/plain": [
       "<Figure size 432x288 with 2 Axes>"
      ]
     },
     "metadata": {
      "needs_background": "light"
     },
     "output_type": "display_data"
    }
   ],
   "source": [
    "target_noisy_models[0].heatmap()"
   ]
  },
  {
   "cell_type": "code",
   "execution_count": 30,
   "id": "2ec17e31",
   "metadata": {},
   "outputs": [
    {
     "data": {
      "image/png": "[encoded data removed]",
      "text/plain": [
       "<Figure size 432x288 with 2 Axes>"
      ]
     },
     "metadata": {
      "needs_background": "light"
     },
     "output_type": "display_data"
    }
   ],
   "source": [
    "target_noisy_models[-1].heatmap()"
   ]
  },
  {
   "cell_type": "code",
   "execution_count": null,
   "id": "6f12e2ac",
   "metadata": {},
   "outputs": [],
   "source": []
  },
  {
   "cell_type": "code",
   "execution_count": null,
   "id": "e134c236",
   "metadata": {},
   "outputs": [],
   "source": []
  },
  {
   "cell_type": "code",
   "execution_count": null,
   "id": "47d170ff",
   "metadata": {},
   "outputs": [],
   "source": []
  },
  {
   "cell_type": "code",
   "execution_count": null,
   "id": "fda98c02",
   "metadata": {},
   "outputs": [],
   "source": []
  },
  {
   "cell_type": "code",
   "execution_count": 39,
   "id": "0befa38a",
   "metadata": {},
   "outputs": [],
   "source": [
    "input_dir = 'Simultations/input_data/'"
   ]
  },
  {
   "cell_type": "code",
   "execution_count": 40,
   "id": "86baced8",
   "metadata": {},
   "outputs": [],
   "source": [
    "df = pd.read_pickle(input_dir+\"df_true\")"
   ]
  },
  {
   "cell_type": "code",
   "execution_count": 41,
   "id": "bee5a912",
   "metadata": {},
   "outputs": [
    {
     "data": {
      "text/plain": [
       "Index(['Session:Name', 'Record #', 'sequence', 'Speaker', 'Orthography',\n",
       "       'orth_og', 'orth_aligned', 'orth_annt', 'Segment_manual', 'SpeechAct',\n",
       "       'ClauseType', 'UttGoals', 'Subj', 'Obj', 'Verb', 'Aux', 'AuxInvert',\n",
       "       'InitFunction', 'PreVFunction', 'PostVFunction', 'SubQ', 'SubI',\n",
       "       'FollowUp?', 'ToAdults?', 'Situation', 'GRASP', 'Morphology',\n",
       "       'Embedding', 'AnnotatorNotes', 'Subject', 'Modal', 'Modal_2',\n",
       "       'DiscourseMarker', 'TagType', 'Q_status', 'EmbeddingVerb', 'S-lifting',\n",
       "       'NEG', 'MultiEmbedding', 'Conventionalized', 'PerlocutionaryEffect',\n",
       "       'Offer?', 'sp_raw', 'cl_raw', 'Notes', 'situation', 'Comments',\n",
       "       'SubQcat', 'morphed_items', 'VerbMorphology', 'Atrue', 'Ctrue',\n",
       "       'final_rise', 'ClauseType_split', 'ORTHOGRAPHY', 'Session', 'Child',\n",
       "       'uttID', 'duplicated', 'start_manual', 'end_manual'],\n",
       "      dtype='object')"
      ]
     },
     "execution_count": 41,
     "metadata": {},
     "output_type": "execute_result"
    }
   ],
   "source": [
    "df.columns"
   ]
  },
  {
   "cell_type": "code",
   "execution_count": 42,
   "id": "c0722bf1",
   "metadata": {},
   "outputs": [
    {
     "data": {
      "text/plain": [
       "(3923, 61)"
      ]
     },
     "execution_count": 42,
     "metadata": {},
     "output_type": "execute_result"
    }
   ],
   "source": [
    "df"
   ]
  },
  {
   "cell_type": "code",
   "execution_count": 119,
   "id": "8e23ab00",
   "metadata": {},
   "outputs": [],
   "source": [
    "with open(input_dir+'training_data','rb') as f:\n",
    "    a_true = np.load(f,allow_pickle=True)\n",
    "    c_true = np.load(f,allow_pickle=True)\n",
    "    s0 = np.load(f,allow_pickle=True)\n",
    "    s1 = np.load(f,allow_pickle=True)\n",
    "    s2 = np.load(f,allow_pickle=True)\n",
    "    s3 = np.load(f,allow_pickle=True)\n",
    "    s4 = np.load(f,allow_pickle=True)\n",
    "    s5 = np.load(f,allow_pickle=True)\n",
    "    s6 = np.load(f,allow_pickle=True)\n",
    "    s7 = np.load(f,allow_pickle=True)\n",
    "    s8 = np.load(f,allow_pickle=True)\n",
    "    s9 = np.load(f,allow_pickle=True)"
   ]
  },
  {
   "cell_type": "code",
   "execution_count": 44,
   "id": "a988011d",
   "metadata": {},
   "outputs": [
    {
     "data": {
      "text/plain": [
       "(3923,)"
      ]
     },
     "execution_count": 44,
     "metadata": {},
     "output_type": "execute_result"
    }
   ],
   "source": [
    "s0.shape"
   ]
  },
  {
   "cell_type": "code",
   "execution_count": 45,
   "id": "39c47f24",
   "metadata": {},
   "outputs": [],
   "source": [
    "from itertools import product \n"
   ]
  },
  {
   "cell_type": "code",
   "execution_count": 123,
   "id": "c049d7b6",
   "metadata": {},
   "outputs": [],
   "source": [
    "S = [s0,s1,s2,s3,s4,s5,s6,s7,s9]"
   ]
  },
  {
   "cell_type": "code",
   "execution_count": 92,
   "id": "fdb6157f",
   "metadata": {},
   "outputs": [],
   "source": [
    "def simulate_a(delta,a):\n",
    "    \"\"\"mix noise into speech act labels\n",
    "    Args:\n",
    "        delta (int): proportion of noise in input\n",
    "        a (np.array): speech act labels before simulation (e.g. a_true)\n",
    "\n",
    "    Returns:\n",
    "        a_sim: simuated speech act labels\n",
    "    \"\"\"\n",
    "    a_sim = a.copy()\n",
    "    a_uniq, counts = np.unique(a,return_counts = True)\n",
    "    chance = np.random.choice(2, size=len(a), p = [delta/100,1-(delta/100)])\n",
    "    for n in range(len(chance)):\n",
    "        if chance[n] == 0:\n",
    "            a_sim[n] = np.random.randint(len(a_uniq))\n",
    "        else:\n",
    "            a_sim[n] = a[n]\n",
    "   \n",
    "    return a_sim"
   ]
  },
  {
   "cell_type": "code",
   "execution_count": 90,
   "id": "10e779ed",
   "metadata": {},
   "outputs": [
    {
     "data": {
      "text/plain": [
       "(array([0, 1, 2, 3]), array([1767, 1517,  571,   68]))"
      ]
     },
     "execution_count": 90,
     "metadata": {},
     "output_type": "execute_result"
    }
   ],
   "source": [
    "np.unique(a_true,return_counts = True)"
   ]
  },
  {
   "cell_type": "code",
   "execution_count": 93,
   "id": "35711059",
   "metadata": {},
   "outputs": [],
   "source": [
    "a_sim = simulate_a(10,a_true)"
   ]
  },
  {
   "cell_type": "code",
   "execution_count": 122,
   "id": "0ecc31ed",
   "metadata": {},
   "outputs": [
    {
     "data": {
      "text/plain": [
       "(array([0]), array([3923]))"
      ]
     },
     "execution_count": 122,
     "metadata": {},
     "output_type": "execute_result"
    }
   ],
   "source": [
    "np.unique(s8,return_counts = True)"
   ]
  },
  {
   "cell_type": "code",
   "execution_count": 121,
   "id": "a1340413",
   "metadata": {},
   "outputs": [
    {
     "data": {
      "text/plain": [
       "array([0, 0, 0, ..., 0, 0, 0])"
      ]
     },
     "execution_count": 121,
     "metadata": {},
     "output_type": "execute_result"
    }
   ],
   "source": [
    "s8"
   ]
  },
  {
   "cell_type": "code",
   "execution_count": null,
   "id": "744a1de5",
   "metadata": {},
   "outputs": [],
   "source": []
  },
  {
   "cell_type": "code",
   "execution_count": 47,
   "id": "23056636",
   "metadata": {},
   "outputs": [
    {
     "data": {
      "text/plain": [
       "9765625"
      ]
     },
     "execution_count": 47,
     "metadata": {},
     "output_type": "execute_result"
    }
   ],
   "source": [
    "len(list(product(range(0,100,20), repeat=10))) #== 5**10"
   ]
  },
  {
   "cell_type": "code",
   "execution_count": 102,
   "id": "855fcb6f",
   "metadata": {},
   "outputs": [],
   "source": [
    "from copy import deepcopy\n",
    "\n",
    "def recode_s(S,i):\n",
    "    S_sim = deepcopy(S)\n",
    "    S_sim[i] = 0\n",
    "    return S_sim"
   ]
  },
  {
   "cell_type": "code",
   "execution_count": 107,
   "id": "83e792d8",
   "metadata": {},
   "outputs": [],
   "source": [
    "c_init = np.random.randint(3, size=len(c_true))\n",
    "c_sampled= c_init.copy()"
   ]
  },
  {
   "cell_type": "code",
   "execution_count": 124,
   "id": "9b213f9c",
   "metadata": {},
   "outputs": [],
   "source": [
    " S_c_s_counts= np.array([xtab(c_sampled,s) for s in S])"
   ]
  },
  {
   "cell_type": "code",
   "execution_count": 106,
   "id": "e8a7cbdc",
   "metadata": {},
   "outputs": [
    {
     "data": {
      "text/plain": [
       "[array([0, 1, 0, ..., 1, 0, 1]),\n",
       " array([1, 1, 1, ..., 1, 0, 1]),\n",
       " array([1, 1, 1, ..., 1, 1, 1]),\n",
       " array([1, 0, 0, ..., 1, 0, 0]),\n",
       " array([1, 0, 0, ..., 0, 0, 0]),\n",
       " array([0, 0, 0, ..., 0, 0, 0]),\n",
       " array([0, 0, 0, ..., 0, 0, 0]),\n",
       " array([0, 0, 0, ..., 0, 1, 0]),\n",
       " array([0, 0, 0, ..., 0, 0, 0]),\n",
       " array([0, 1, 0, ..., 0, 0, 0])]"
      ]
     },
     "execution_count": 106,
     "metadata": {},
     "output_type": "execute_result"
    }
   ],
   "source": [
    "Parallel(n_jobs=1)(delayed(sqrt)(i**2) for i in range(10))\n"
   ]
  },
  {
   "cell_type": "code",
   "execution_count": 6,
   "id": "6dd32772",
   "metadata": {},
   "outputs": [
    {
     "name": "stdout",
     "output_type": "stream",
     "text": [
      "\n",
      "Elapsed time computing the average of couple of slices 1.25 s\n",
      "\n",
      "Elapsed time computing the average of couple of slices 1.34 s\n"
     ]
    }
   ],
   "source": [
    "from joblib import Parallel, delayed\n",
    "import time\n",
    "def slow_mean(data, sl):\n",
    "    \"\"\"Simulate a time consuming processing.\"\"\"\n",
    "    time.sleep(0.01)\n",
    "    return data[sl].mean()\n",
    "\n",
    "data = np.random.random((int(1e7),))\n",
    "window_size = int(5e5)\n",
    "slices = [slice(start, start + window_size)\n",
    "          for start in range(0, data.size - window_size, int(1e5))]\n",
    "\n",
    "\n",
    "\n"
   ]
  },
  {
   "cell_type": "code",
   "execution_count": 7,
   "id": "78bee6fb",
   "metadata": {},
   "outputs": [
    {
     "name": "stdout",
     "output_type": "stream",
     "text": [
      "\n",
      "Elapsed time computing the average of couple of slices 1.25 s\n"
     ]
    }
   ],
   "source": [
    "tic = time.time()\n",
    "results = [slow_mean(data, sl) for sl in slices]\n",
    "toc = time.time()\n",
    "print('\\nElapsed time computing the average of couple of slices {:.2f} s'\n",
    "      .format(toc - tic))"
   ]
  },
  {
   "cell_type": "code",
   "execution_count": 9,
   "id": "d5409e73",
   "metadata": {},
   "outputs": [
    {
     "name": "stdout",
     "output_type": "stream",
     "text": [
      "\n",
      "Elapsed time computing the average of couple of slices 0.86 s\n"
     ]
    }
   ],
   "source": [
    "tic = time.time()\n",
    "results = Parallel(n_jobs=3)(delayed(slow_mean)(data, sl) for sl in slices)\n",
    "toc = time.time()\n",
    "print('\\nElapsed time computing the average of couple of slices {:.2f} s'\n",
    "      .format(toc - tic))"
   ]
  },
  {
   "cell_type": "code",
   "execution_count": 109,
   "id": "1310372f",
   "metadata": {},
   "outputs": [],
   "source": [
    "def xtab(*cols):\n",
    "    \"\"\"\n",
    "    Cross-tab two columns\n",
    "    Both columns have to be np.arrays\n",
    "    \"\"\"\n",
    "    if not all(len(col) == len(cols[0]) for col in cols[1:]):\n",
    "        raise ValueError(\"all arguments must be same size\")\n",
    "\n",
    "    if len(cols) != 2:\n",
    "        raise TypeError(\"xtab() requires 2 numpy arrays\")\n",
    "\n",
    "    fnx1 = lambda q: len(q.squeeze().shape)\n",
    "    if not all([fnx1(col) == 1 for col in cols]):\n",
    "        raise ValueError(\"all input arrays must be 1D\")\n",
    "    wt =1\n",
    "\n",
    "    uniq_vals_all_cols, idx = zip( *(np.unique(col, return_inverse=True) for col in cols) )\n",
    "    shape_xt = [uniq_vals_col.size for uniq_vals_col in uniq_vals_all_cols]\n",
    "    xt = np.zeros(shape_xt)\n",
    "    dtype_xt = 'float'\n",
    "    np.add.at(xt, idx, wt)\n",
    "    return  xt"
   ]
  },
  {
   "cell_type": "code",
   "execution_count": 77,
   "id": "6704d23c",
   "metadata": {},
   "outputs": [
    {
     "data": {
      "text/plain": [
       "0         Request\n",
       "1       Assertion\n",
       "2         Request\n",
       "3       Assertion\n",
       "4        Question\n",
       "          ...    \n",
       "3918    Assertion\n",
       "3919    Assertion\n",
       "3920    Assertion\n",
       "3921    Assertion\n",
       "3922    Assertion\n",
       "Name: SpeechAct, Length: 3923, dtype: object"
      ]
     },
     "execution_count": 77,
     "metadata": {},
     "output_type": "execute_result"
    }
   ],
   "source": [
    "df['SpeechAct']"
   ]
  },
  {
   "cell_type": "code",
   "execution_count": 79,
   "id": "1f6df2eb",
   "metadata": {},
   "outputs": [
    {
     "data": {
      "text/html": [
       "<div>\n",
       "<style scoped>\n",
       "    .dataframe tbody tr th:only-of-type {\n",
       "        vertical-align: middle;\n",
       "    }\n",
       "\n",
       "    .dataframe tbody tr th {\n",
       "        vertical-align: top;\n",
       "    }\n",
       "\n",
       "    .dataframe thead th {\n",
       "        text-align: right;\n",
       "    }\n",
       "</style>\n",
       "<table border=\"1\" class=\"dataframe\">\n",
       "  <thead>\n",
       "    <tr style=\"text-align: right;\">\n",
       "      <th></th>\n",
       "      <th>Session:Name</th>\n",
       "      <th>Record #</th>\n",
       "      <th>sequence</th>\n",
       "      <th>Speaker</th>\n",
       "      <th>Orthography</th>\n",
       "      <th>orth_og</th>\n",
       "      <th>orth_aligned</th>\n",
       "      <th>orth_annt</th>\n",
       "      <th>Segment_manual</th>\n",
       "      <th>SpeechAct</th>\n",
       "      <th>...</th>\n",
       "      <th>Ctrue</th>\n",
       "      <th>final_rise</th>\n",
       "      <th>ClauseType_split</th>\n",
       "      <th>ORTHOGRAPHY</th>\n",
       "      <th>Session</th>\n",
       "      <th>Child</th>\n",
       "      <th>uttID</th>\n",
       "      <th>duplicated</th>\n",
       "      <th>start_manual</th>\n",
       "      <th>end_manual</th>\n",
       "    </tr>\n",
       "  </thead>\n",
       "  <tbody>\n",
       "    <tr>\n",
       "      <th>10</th>\n",
       "      <td>Naima.001126</td>\n",
       "      <td>23</td>\n",
       "      <td>0</td>\n",
       "      <td>Mother</td>\n",
       "      <td>[wel&lt;come&gt; (t:t:self interruption)]</td>\n",
       "      <td>wel&lt;come&gt; (t:t:self interruption)</td>\n",
       "      <td>wel&lt;come&gt; (t:t:self interruption)</td>\n",
       "      <td>wel&lt;come&gt; (t:t:self interruption)</td>\n",
       "      <td>0</td>\n",
       "      <td>Other</td>\n",
       "      <td>...</td>\n",
       "      <td>2</td>\n",
       "      <td>0</td>\n",
       "      <td>Imperative</td>\n",
       "      <td>WEL&lt;COME&gt; (T:T:SELF INTERRUPTION)</td>\n",
       "      <td>Naima001126</td>\n",
       "      <td>Naima</td>\n",
       "      <td>MotherofNaima_Naima001126_23</td>\n",
       "      <td>0</td>\n",
       "      <td>0.0</td>\n",
       "      <td>0.0</td>\n",
       "    </tr>\n",
       "    <tr>\n",
       "      <th>346</th>\n",
       "      <td>Lily.010102</td>\n",
       "      <td>173</td>\n",
       "      <td>0</td>\n",
       "      <td>Mother</td>\n",
       "      <td>[thank] [you .]</td>\n",
       "      <td>thank you .</td>\n",
       "      <td>0</td>\n",
       "      <td>thank you .</td>\n",
       "      <td>0</td>\n",
       "      <td>Other</td>\n",
       "      <td>...</td>\n",
       "      <td>2</td>\n",
       "      <td>0</td>\n",
       "      <td>Imperative</td>\n",
       "      <td>THANK YOU .</td>\n",
       "      <td>Lily010102</td>\n",
       "      <td>Lily</td>\n",
       "      <td>MotherofLily_Lily010102_173</td>\n",
       "      <td>0</td>\n",
       "      <td>0.0</td>\n",
       "      <td>0.0</td>\n",
       "    </tr>\n",
       "    <tr>\n",
       "      <th>347</th>\n",
       "      <td>Lily.010102</td>\n",
       "      <td>175</td>\n",
       "      <td>0</td>\n",
       "      <td>Mother</td>\n",
       "      <td>[thank] [you .]</td>\n",
       "      <td>thank you .</td>\n",
       "      <td>0</td>\n",
       "      <td>thank you .</td>\n",
       "      <td>0</td>\n",
       "      <td>Other</td>\n",
       "      <td>...</td>\n",
       "      <td>2</td>\n",
       "      <td>0</td>\n",
       "      <td>Imperative</td>\n",
       "      <td>THANK YOU .</td>\n",
       "      <td>Lily010102</td>\n",
       "      <td>Lily</td>\n",
       "      <td>MotherofLily_Lily010102_175</td>\n",
       "      <td>0</td>\n",
       "      <td>0.0</td>\n",
       "      <td>0.0</td>\n",
       "    </tr>\n",
       "    <tr>\n",
       "      <th>474</th>\n",
       "      <td>Lily.010102</td>\n",
       "      <td>462</td>\n",
       "      <td>0</td>\n",
       "      <td>Mother</td>\n",
       "      <td>[rubbery] [fish] [kisses .]</td>\n",
       "      <td>rubbery fish kisses .</td>\n",
       "      <td>0</td>\n",
       "      <td>rubbery fish kisses .</td>\n",
       "      <td>0</td>\n",
       "      <td>Other</td>\n",
       "      <td>...</td>\n",
       "      <td>0</td>\n",
       "      <td>0</td>\n",
       "      <td>Declarative</td>\n",
       "      <td>RUBBERY FISH KISSES .</td>\n",
       "      <td>Lily010102</td>\n",
       "      <td>Lily</td>\n",
       "      <td>MotherofLily_Lily010102_462</td>\n",
       "      <td>0</td>\n",
       "      <td>0.0</td>\n",
       "      <td>0.0</td>\n",
       "    </tr>\n",
       "    <tr>\n",
       "      <th>475</th>\n",
       "      <td>Lily.010102</td>\n",
       "      <td>465</td>\n",
       "      <td>0</td>\n",
       "      <td>Mother</td>\n",
       "      <td>[squishy] [pig] [kisses .]</td>\n",
       "      <td>squishy pig kisses .</td>\n",
       "      <td>0</td>\n",
       "      <td>squishy pig kisses .</td>\n",
       "      <td>0</td>\n",
       "      <td>Other</td>\n",
       "      <td>...</td>\n",
       "      <td>0</td>\n",
       "      <td>0</td>\n",
       "      <td>Declarative</td>\n",
       "      <td>SQUISHY PIG KISSES .</td>\n",
       "      <td>Lily010102</td>\n",
       "      <td>Lily</td>\n",
       "      <td>MotherofLily_Lily010102_465</td>\n",
       "      <td>0</td>\n",
       "      <td>0.0</td>\n",
       "      <td>0.0</td>\n",
       "    </tr>\n",
       "    <tr>\n",
       "      <th>...</th>\n",
       "      <td>...</td>\n",
       "      <td>...</td>\n",
       "      <td>...</td>\n",
       "      <td>...</td>\n",
       "      <td>...</td>\n",
       "      <td>...</td>\n",
       "      <td>...</td>\n",
       "      <td>...</td>\n",
       "      <td>...</td>\n",
       "      <td>...</td>\n",
       "      <td>...</td>\n",
       "      <td>...</td>\n",
       "      <td>...</td>\n",
       "      <td>...</td>\n",
       "      <td>...</td>\n",
       "      <td>...</td>\n",
       "      <td>...</td>\n",
       "      <td>...</td>\n",
       "      <td>...</td>\n",
       "      <td>...</td>\n",
       "      <td>...</td>\n",
       "    </tr>\n",
       "    <tr>\n",
       "      <th>3349</th>\n",
       "      <td>Naima.010111</td>\n",
       "      <td>468</td>\n",
       "      <td>0</td>\n",
       "      <td>Mother</td>\n",
       "      <td>[thank] [you (.)] [here .]</td>\n",
       "      <td>thank you (.) here .</td>\n",
       "      <td>0</td>\n",
       "      <td>thank you (.) here .</td>\n",
       "      <td>0</td>\n",
       "      <td>Other</td>\n",
       "      <td>...</td>\n",
       "      <td>2</td>\n",
       "      <td>0</td>\n",
       "      <td>Imperative</td>\n",
       "      <td>THANK YOU (.) HERE .</td>\n",
       "      <td>Naima010111</td>\n",
       "      <td>Naima</td>\n",
       "      <td>MotherofNaima_Naima010111_468</td>\n",
       "      <td>0</td>\n",
       "      <td>0.0</td>\n",
       "      <td>0.0</td>\n",
       "    </tr>\n",
       "    <tr>\n",
       "      <th>3601</th>\n",
       "      <td>William.010412</td>\n",
       "      <td>431</td>\n",
       "      <td>0</td>\n",
       "      <td>Mother</td>\n",
       "      <td>[o:h ,] [thank] [you .]</td>\n",
       "      <td>o:h , thank you .</td>\n",
       "      <td>0</td>\n",
       "      <td>o:h , thank you .</td>\n",
       "      <td>0</td>\n",
       "      <td>Other</td>\n",
       "      <td>...</td>\n",
       "      <td>2</td>\n",
       "      <td>0</td>\n",
       "      <td>Imperative</td>\n",
       "      <td>O:H , THANK YOU .</td>\n",
       "      <td>William010412</td>\n",
       "      <td>William</td>\n",
       "      <td>MotherofWilliam_William010412_431</td>\n",
       "      <td>0</td>\n",
       "      <td>0.0</td>\n",
       "      <td>0.0</td>\n",
       "    </tr>\n",
       "    <tr>\n",
       "      <th>3602</th>\n",
       "      <td>William.010412</td>\n",
       "      <td>432</td>\n",
       "      <td>0</td>\n",
       "      <td>Mother</td>\n",
       "      <td>[thank] [you: !]</td>\n",
       "      <td>thank you: !</td>\n",
       "      <td>0</td>\n",
       "      <td>thank you: !</td>\n",
       "      <td>0</td>\n",
       "      <td>Other</td>\n",
       "      <td>...</td>\n",
       "      <td>2</td>\n",
       "      <td>0</td>\n",
       "      <td>Imperative</td>\n",
       "      <td>THANK YOU: !</td>\n",
       "      <td>William010412</td>\n",
       "      <td>William</td>\n",
       "      <td>MotherofWilliam_William010412_432</td>\n",
       "      <td>0</td>\n",
       "      <td>0.0</td>\n",
       "      <td>0.0</td>\n",
       "    </tr>\n",
       "    <tr>\n",
       "      <th>3618</th>\n",
       "      <td>William.010412</td>\n",
       "      <td>458</td>\n",
       "      <td>0</td>\n",
       "      <td>Mother</td>\n",
       "      <td>[thanks] [for] [opening] [the] [door .]</td>\n",
       "      <td>thanks for opening the door .</td>\n",
       "      <td>0</td>\n",
       "      <td>thanks for opening the door .</td>\n",
       "      <td>0</td>\n",
       "      <td>Other</td>\n",
       "      <td>...</td>\n",
       "      <td>2</td>\n",
       "      <td>0</td>\n",
       "      <td>Imperative</td>\n",
       "      <td>THANKS FOR OPENING THE DOOR .</td>\n",
       "      <td>William010412</td>\n",
       "      <td>William</td>\n",
       "      <td>MotherofWilliam_William010412_458</td>\n",
       "      <td>0</td>\n",
       "      <td>0.0</td>\n",
       "      <td>0.0</td>\n",
       "    </tr>\n",
       "    <tr>\n",
       "      <th>3656</th>\n",
       "      <td>Violet.010407</td>\n",
       "      <td>41</td>\n",
       "      <td>0</td>\n",
       "      <td>Mother</td>\n",
       "      <td>[thank] [you .]</td>\n",
       "      <td>thank you .</td>\n",
       "      <td>0</td>\n",
       "      <td>thank you .</td>\n",
       "      <td>0</td>\n",
       "      <td>Other</td>\n",
       "      <td>...</td>\n",
       "      <td>2</td>\n",
       "      <td>0</td>\n",
       "      <td>Imperative</td>\n",
       "      <td>THANK YOU .</td>\n",
       "      <td>Violet010407</td>\n",
       "      <td>Violet</td>\n",
       "      <td>MotherofViolet_Violet010407_41</td>\n",
       "      <td>0</td>\n",
       "      <td>0.0</td>\n",
       "      <td>0.0</td>\n",
       "    </tr>\n",
       "  </tbody>\n",
       "</table>\n",
       "<p>68 rows × 61 columns</p>\n",
       "</div>"
      ],
      "text/plain": [
       "        Session:Name  Record # sequence Speaker  \\\n",
       "10      Naima.001126        23        0  Mother   \n",
       "346      Lily.010102       173        0  Mother   \n",
       "347      Lily.010102       175        0  Mother   \n",
       "474      Lily.010102       462        0  Mother   \n",
       "475      Lily.010102       465        0  Mother   \n",
       "...              ...       ...      ...     ...   \n",
       "3349    Naima.010111       468        0  Mother   \n",
       "3601  William.010412       431        0  Mother   \n",
       "3602  William.010412       432        0  Mother   \n",
       "3618  William.010412       458        0  Mother   \n",
       "3656   Violet.010407        41        0  Mother   \n",
       "\n",
       "                                  Orthography  \\\n",
       "10        [wel<come> (t:t:self interruption)]   \n",
       "346                           [thank] [you .]   \n",
       "347                           [thank] [you .]   \n",
       "474               [rubbery] [fish] [kisses .]   \n",
       "475                [squishy] [pig] [kisses .]   \n",
       "...                                       ...   \n",
       "3349               [thank] [you (.)] [here .]   \n",
       "3601                  [o:h ,] [thank] [you .]   \n",
       "3602                         [thank] [you: !]   \n",
       "3618  [thanks] [for] [opening] [the] [door .]   \n",
       "3656                          [thank] [you .]   \n",
       "\n",
       "                                orth_og                       orth_aligned  \\\n",
       "10    wel<come> (t:t:self interruption)  wel<come> (t:t:self interruption)   \n",
       "346                         thank you .                                  0   \n",
       "347                         thank you .                                  0   \n",
       "474               rubbery fish kisses .                                  0   \n",
       "475                squishy pig kisses .                                  0   \n",
       "...                                 ...                                ...   \n",
       "3349               thank you (.) here .                                  0   \n",
       "3601                  o:h , thank you .                                  0   \n",
       "3602                       thank you: !                                  0   \n",
       "3618      thanks for opening the door .                                  0   \n",
       "3656                        thank you .                                  0   \n",
       "\n",
       "                              orth_annt Segment_manual SpeechAct  ... Ctrue  \\\n",
       "10    wel<come> (t:t:self interruption)              0     Other  ...     2   \n",
       "346                         thank you .              0     Other  ...     2   \n",
       "347                         thank you .              0     Other  ...     2   \n",
       "474               rubbery fish kisses .              0     Other  ...     0   \n",
       "475                squishy pig kisses .              0     Other  ...     0   \n",
       "...                                 ...            ...       ...  ...   ...   \n",
       "3349               thank you (.) here .              0     Other  ...     2   \n",
       "3601                  o:h , thank you .              0     Other  ...     2   \n",
       "3602                       thank you: !              0     Other  ...     2   \n",
       "3618      thanks for opening the door .              0     Other  ...     2   \n",
       "3656                        thank you .              0     Other  ...     2   \n",
       "\n",
       "     final_rise  ClauseType_split                        ORTHOGRAPHY  \\\n",
       "10            0        Imperative  WEL<COME> (T:T:SELF INTERRUPTION)   \n",
       "346           0        Imperative                        THANK YOU .   \n",
       "347           0        Imperative                        THANK YOU .   \n",
       "474           0       Declarative              RUBBERY FISH KISSES .   \n",
       "475           0       Declarative               SQUISHY PIG KISSES .   \n",
       "...         ...               ...                                ...   \n",
       "3349          0        Imperative               THANK YOU (.) HERE .   \n",
       "3601          0        Imperative                  O:H , THANK YOU .   \n",
       "3602          0        Imperative                       THANK YOU: !   \n",
       "3618          0        Imperative      THANKS FOR OPENING THE DOOR .   \n",
       "3656          0        Imperative                        THANK YOU .   \n",
       "\n",
       "            Session    Child                              uttID  duplicated  \\\n",
       "10      Naima001126    Naima       MotherofNaima_Naima001126_23           0   \n",
       "346      Lily010102     Lily        MotherofLily_Lily010102_173           0   \n",
       "347      Lily010102     Lily        MotherofLily_Lily010102_175           0   \n",
       "474      Lily010102     Lily        MotherofLily_Lily010102_462           0   \n",
       "475      Lily010102     Lily        MotherofLily_Lily010102_465           0   \n",
       "...             ...      ...                                ...         ...   \n",
       "3349    Naima010111    Naima      MotherofNaima_Naima010111_468           0   \n",
       "3601  William010412  William  MotherofWilliam_William010412_431           0   \n",
       "3602  William010412  William  MotherofWilliam_William010412_432           0   \n",
       "3618  William010412  William  MotherofWilliam_William010412_458           0   \n",
       "3656   Violet010407   Violet     MotherofViolet_Violet010407_41           0   \n",
       "\n",
       "      start_manual  end_manual  \n",
       "10             0.0         0.0  \n",
       "346            0.0         0.0  \n",
       "347            0.0         0.0  \n",
       "474            0.0         0.0  \n",
       "475            0.0         0.0  \n",
       "...            ...         ...  \n",
       "3349           0.0         0.0  \n",
       "3601           0.0         0.0  \n",
       "3602           0.0         0.0  \n",
       "3618           0.0         0.0  \n",
       "3656           0.0         0.0  \n",
       "\n",
       "[68 rows x 61 columns]"
      ]
     },
     "execution_count": 79,
     "metadata": {},
     "output_type": "execute_result"
    }
   ],
   "source": [
    "df[df['Atrue']==3]"
   ]
  },
  {
   "cell_type": "code",
   "execution_count": null,
   "id": "7fc298d6",
   "metadata": {},
   "outputs": [],
   "source": []
  }
 ],
 "metadata": {
  "kernelspec": {
   "display_name": "Python 3 (ipykernel)",
   "language": "python",
   "name": "python3"
  },
  "language_info": {
   "codemirror_mode": {
    "name": "ipython",
    "version": 3
   },
   "file_extension": ".py",
   "mimetype": "text/x-python",
   "name": "python",
   "nbconvert_exporter": "python",
   "pygments_lexer": "ipython3",
   "version": "3.9.12"
  }
 },
 "nbformat": 4,
 "nbformat_minor": 5
}
